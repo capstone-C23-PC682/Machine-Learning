{
  "nbformat": 4,
  "nbformat_minor": 0,
  "metadata": {
    "colab": {
      "provenance": []
    },
    "kernelspec": {
      "name": "python3",
      "display_name": "Python 3"
    },
    "language_info": {
      "name": "python"
    }
  },
  "cells": [
    {
      "cell_type": "code",
      "execution_count": 41,
      "metadata": {
        "id": "LNmWcL9y_T79"
      },
      "outputs": [],
      "source": [
        "import numpy as np\n",
        "import tensorflow as tf\n",
        "from tensorflow.keras.utils import load_img, img_to_array\n",
        "import itertools"
      ]
    },
    {
      "cell_type": "code",
      "source": [
        "labels = {0: 'cardboard', 1: 'glass', 2: 'metal', 3: 'paper', 4: 'plastic'}\n",
        "labels = dict((v,k) for k,v in labels.items())"
      ],
      "metadata": {
        "colab": {
          "base_uri": "https://localhost:8080/"
        },
        "id": "Qy1m12KeAlSf",
        "outputId": "b7edc39b-9625-402a-e4f8-5880dba36aec"
      },
      "execution_count": 14,
      "outputs": [
        {
          "output_type": "stream",
          "name": "stdout",
          "text": [
            "{'cardboard': 0, 'glass': 1, 'metal': 2, 'paper': 3, 'plastic': 4}\n"
          ]
        }
      ]
    },
    {
      "cell_type": "code",
      "source": [
        "model = tf.keras.models.load_model('new_model.h5')"
      ],
      "metadata": {
        "id": "CMWS8HjZ_VH-"
      },
      "execution_count": 10,
      "outputs": []
    },
    {
      "cell_type": "code",
      "source": [
        "path= 'image_400.jpg'"
      ],
      "metadata": {
        "id": "qQFN32Rh_Wq-"
      },
      "execution_count": 5,
      "outputs": []
    },
    {
      "cell_type": "code",
      "source": [
        "img= load_img(path, target_size=(300, 300))\n",
        "x= img_to_array(img)\n",
        "x= np.expand_dims(x, axis=0)"
      ],
      "metadata": {
        "id": "hxuhmk4f_0nv"
      },
      "execution_count": 6,
      "outputs": []
    },
    {
      "cell_type": "code",
      "source": [
        "images= np.vstack([x])\n",
        "classes= model.predict(images, batch_size=10)"
      ],
      "metadata": {
        "colab": {
          "base_uri": "https://localhost:8080/"
        },
        "id": "5Vppn-I7_2XG",
        "outputId": "984977a5-5b64-4bbf-ee97-a65ddb34423d"
      },
      "execution_count": 11,
      "outputs": [
        {
          "output_type": "stream",
          "name": "stdout",
          "text": [
            "1/1 [==============================] - 1s 509ms/step\n"
          ]
        }
      ]
    },
    {
      "cell_type": "code",
      "source": [
        "print(classes)\n",
        "# print('pred:%s'%(labels[np.argmax(classes)]))"
      ],
      "metadata": {
        "colab": {
          "base_uri": "https://localhost:8080/"
        },
        "id": "MJ7dFOCl_3l-",
        "outputId": "b62a99c5-5ddf-4de5-fac6-075fd6c72eaa"
      },
      "execution_count": 22,
      "outputs": [
        {
          "output_type": "stream",
          "name": "stdout",
          "text": [
            "[[0. 0. 0. 1. 0.]]\n"
          ]
        }
      ]
    },
    {
      "cell_type": "code",
      "source": [
        "\n",
        "\n",
        "single_list = list(itertools.chain.from_iterable(classes))\n",
        "\n",
        "print(single_list)"
      ],
      "metadata": {
        "colab": {
          "base_uri": "https://localhost:8080/"
        },
        "id": "GrHpk4EQGm-T",
        "outputId": "caf03aee-4fc3-437b-e6d1-ab272fe34cca"
      },
      "execution_count": 30,
      "outputs": [
        {
          "output_type": "stream",
          "name": "stdout",
          "text": [
            "[0.0, 0.0, 0.0, 1.0, 0.0]\n"
          ]
        }
      ]
    },
    {
      "cell_type": "code",
      "source": [
        "class_mapping = {\n",
        "    (1., 0., 0., 0., 0.): 1,\n",
        "    (0., 1., 0., 0., 0.): 2,\n",
        "    (0., 0., 1., 0., 0.): 3,\n",
        "    (0., 0., 0., 1., 0.): 4,\n",
        "    (0., 0., 0., 0., 1.): 5,\n",
        "}\n",
        "\n",
        "# Example input array\n",
        "input_array = np.array([0., 0., 0., 1., 0.])\n",
        "\n",
        "# Find the corresponding class based on the array\n",
        "output_class = class_mapping.get(tuple(single_list), \"Unknown\")\n",
        "\n",
        "print(\"Class:\", output_class)"
      ],
      "metadata": {
        "colab": {
          "base_uri": "https://localhost:8080/"
        },
        "id": "SJ16LMjdFwA7",
        "outputId": "51ab7cde-2a5f-42c7-c424-903664b0aeed"
      },
      "execution_count": 36,
      "outputs": [
        {
          "output_type": "stream",
          "name": "stdout",
          "text": [
            "Class: 4\n"
          ]
        }
      ]
    },
    {
      "cell_type": "code",
      "source": [
        "dict= {'id': output_class}\n",
        "dict"
      ],
      "metadata": {
        "colab": {
          "base_uri": "https://localhost:8080/"
        },
        "id": "iBDPHczMGvHt",
        "outputId": "c3fdc539-1247-4244-d38a-fa342d2a7cfe"
      },
      "execution_count": 37,
      "outputs": [
        {
          "output_type": "execute_result",
          "data": {
            "text/plain": [
              "{'id': 4}"
            ]
          },
          "metadata": {},
          "execution_count": 37
        }
      ]
    },
    {
      "cell_type": "code",
      "source": [
        "filename = \"answer.json\"\n",
        "with open(filename, \"w\") as file:\n",
        "    json.dump(dict, file)"
      ],
      "metadata": {
        "id": "03ug_i2yHmLd"
      },
      "execution_count": 40,
      "outputs": []
    }
  ]
}