{
  "nbformat": 4,
  "nbformat_minor": 0,
  "metadata": {
    "colab": {
      "provenance": []
    },
    "kernelspec": {
      "name": "python3",
      "display_name": "Python 3"
    },
    "language_info": {
      "name": "python"
    }
  },
  "cells": [
    {
      "cell_type": "code",
      "execution_count": 1,
      "metadata": {
        "id": "LNmWcL9y_T79"
      },
      "outputs": [],
      "source": [
        "import numpy as np\n",
        "import tensorflow as tf\n",
        "from tensorflow.keras.utils import load_img, img_to_array\n",
        "import itertools\n",
        "import json"
      ]
    },
    {
      "cell_type": "code",
      "source": [
        "model = tf.keras.models.load_model('new_model.h5')"
      ],
      "metadata": {
        "id": "CMWS8HjZ_VH-"
      },
      "execution_count": 3,
      "outputs": []
    },
    {
      "cell_type": "code",
      "source": [
        "path= 'image_400.jpg'"
      ],
      "metadata": {
        "id": "qQFN32Rh_Wq-"
      },
      "execution_count": 4,
      "outputs": []
    },
    {
      "cell_type": "code",
      "source": [
        "img= load_img(path, target_size=(300, 300))\n",
        "x= img_to_array(img)\n",
        "x= np.expand_dims(x, axis=0)"
      ],
      "metadata": {
        "id": "hxuhmk4f_0nv"
      },
      "execution_count": 5,
      "outputs": []
    },
    {
      "cell_type": "code",
      "source": [
        "images= np.vstack([x])\n",
        "classes= model.predict(images, batch_size=10)"
      ],
      "metadata": {
        "colab": {
          "base_uri": "https://localhost:8080/"
        },
        "id": "5Vppn-I7_2XG",
        "outputId": "4f94a2db-cc34-4bef-da06-1ab6831c3298"
      },
      "execution_count": 6,
      "outputs": [
        {
          "output_type": "stream",
          "name": "stdout",
          "text": [
            "1/1 [==============================] - 0s 244ms/step\n"
          ]
        }
      ]
    },
    {
      "cell_type": "code",
      "source": [
        "single_list = list(itertools.chain.from_iterable(classes))"
      ],
      "metadata": {
        "id": "GrHpk4EQGm-T"
      },
      "execution_count": 7,
      "outputs": []
    },
    {
      "cell_type": "code",
      "source": [
        "class_mapping = {\n",
        "    (1., 0., 0., 0., 0.): 1,\n",
        "    (0., 1., 0., 0., 0.): 2,\n",
        "    (0., 0., 1., 0., 0.): 3,\n",
        "    (0., 0., 0., 1., 0.): 4,\n",
        "    (0., 0., 0., 0., 1.): 5,\n",
        "}\n",
        "output_class = class_mapping.get(tuple(single_list), \"Unknown\")"
      ],
      "metadata": {
        "id": "SJ16LMjdFwA7"
      },
      "execution_count": 8,
      "outputs": []
    },
    {
      "cell_type": "code",
      "source": [
        "dict= {'id': output_class}"
      ],
      "metadata": {
        "id": "iBDPHczMGvHt"
      },
      "execution_count": 9,
      "outputs": []
    },
    {
      "cell_type": "code",
      "source": [
        "filename = \"answer.json\"\n",
        "with open(filename, \"w\") as file:\n",
        "    json.dump(dict, file)"
      ],
      "metadata": {
        "id": "03ug_i2yHmLd"
      },
      "execution_count": 10,
      "outputs": []
    }
  ]
}