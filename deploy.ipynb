{
  "nbformat": 4,
  "nbformat_minor": 0,
  "metadata": {
    "colab": {
      "provenance": []
    },
    "kernelspec": {
      "name": "python3",
      "display_name": "Python 3"
    },
    "language_info": {
      "name": "python"
    }
  },
  "cells": [
    {
      "cell_type": "code",
      "execution_count": 1,
      "metadata": {
        "id": "LNmWcL9y_T79"
      },
      "outputs": [],
      "source": [
        "from keras.models import load_model\n",
        "import urllib.request\n",
        "import numpy as np\n",
        "from PIL import Image, ImageOps\n",
        "import json"
      ]
    },
    {
      "cell_type": "code",
      "source": [
        "model = load_model('new_model.h5', compile=False)"
      ],
      "metadata": {
        "id": "CMWS8HjZ_VH-"
      },
      "execution_count": 2,
      "outputs": []
    },
    {
      "cell_type": "code",
      "source": [
        "def predict (image_url):\n",
        "  try:\n",
        "    response = urllib.request.urlopen(image_url)\n",
        "    image_data = response.read()\n",
        "    with open('image.jpg', 'wb') as f:\n",
        "      f.write(image_data)\n",
        "  except Exception as e:\n",
        "    print(f'Error: {e}')\n",
        "  image= 'image.jpg'\n",
        "  \n",
        "  np.set_printoptions(suppress=True)\n",
        "  data = np.ndarray(shape=(1, 224, 224, 3), dtype=np.float32)\n",
        "  image = Image.open(image).convert('RGB')\n",
        "  size = (224, 224)\n",
        "  image = ImageOps.fit(image, size)\n",
        "  image_array = np.asarray(image)\n",
        "  normalized_image_array = (image_array.astype(np.float32) / 127.5) - 1\n",
        "  data[0] = normalized_image_array\n",
        "\n",
        "  prediction = model.predict(data)\n",
        "  index = np.argmax(prediction)\n",
        "\n",
        "  index = index.astype(str)\n",
        "  dict= {'id': index}\n",
        "  filename = 'answer.json'\n",
        "  with open(filename, 'w') as file:\n",
        "    json.dump(dict, file)"
      ],
      "metadata": {
        "id": "SjWzwR5VNIuL"
      },
      "execution_count": 4,
      "outputs": []
    },
    {
      "cell_type": "code",
      "source": [
        "image_url = 'https://farm66.staticflickr.com/65535/40889179093_864623dfd3_o.jpg'"
      ],
      "metadata": {
        "id": "qQFN32Rh_Wq-"
      },
      "execution_count": 8,
      "outputs": []
    },
    {
      "cell_type": "code",
      "source": [
        "predict(image_url)"
      ],
      "metadata": {
        "id": "hzWxWNMylrLc",
        "colab": {
          "base_uri": "https://localhost:8080/"
        },
        "outputId": "26e1faee-d5a9-432f-e8e0-edac921a4477"
      },
      "execution_count": 9,
      "outputs": [
        {
          "output_type": "stream",
          "name": "stdout",
          "text": [
            "1/1 [==============================] - 0s 38ms/step\n"
          ]
        }
      ]
    },
    {
      "cell_type": "code",
      "source": [],
      "metadata": {
        "id": "d31pH7jcOR0x"
      },
      "execution_count": 5,
      "outputs": []
    }
  ]
}