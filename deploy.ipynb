{
  "nbformat": 4,
  "nbformat_minor": 0,
  "metadata": {
    "colab": {
      "provenance": []
    },
    "kernelspec": {
      "name": "python3",
      "display_name": "Python 3"
    },
    "language_info": {
      "name": "python"
    }
  },
  "cells": [
    {
      "cell_type": "code",
      "execution_count": 1,
      "metadata": {
        "id": "LNmWcL9y_T79"
      },
      "outputs": [],
      "source": [
        "import numpy as np\n",
        "import tensorflow as tf\n",
        "from tensorflow.keras.utils import load_img, img_to_array\n",
        "import itertools\n",
        "import json"
      ]
    },
    {
      "cell_type": "code",
      "source": [
        "model = tf.keras.models.load_model('new_model.h5')"
      ],
      "metadata": {
        "id": "CMWS8HjZ_VH-"
      },
      "execution_count": 2,
      "outputs": []
    },
    {
      "cell_type": "code",
      "source": [
        "import urllib.request\n",
        "\n",
        "image_url = \"https://farm66.staticflickr.com/65535/47803331152_19beae025a_z.jpg\"\n",
        "\n",
        "try:\n",
        "    response = urllib.request.urlopen(image_url)\n",
        "    image_data = response.read()\n",
        "    with open(\"image.jpg\", \"wb\") as f:\n",
        "        f.write(image_data)\n",
        "    print(\"Image downloaded successfully\")\n",
        "except Exception as e:\n",
        "    print(f\"Error: {e}\")"
      ],
      "metadata": {
        "id": "qQFN32Rh_Wq-",
        "colab": {
          "base_uri": "https://localhost:8080/"
        },
        "outputId": "24ba3b52-d6ca-40a9-a6a4-a80b6080d52a"
      },
      "execution_count": 7,
      "outputs": [
        {
          "output_type": "stream",
          "name": "stdout",
          "text": [
            "Image downloaded successfully\n"
          ]
        }
      ]
    },
    {
      "cell_type": "code",
      "source": [
        "image= 'image.jpg'"
      ],
      "metadata": {
        "id": "jVvjxQ0mSaUI"
      },
      "execution_count": 9,
      "outputs": []
    },
    {
      "cell_type": "code",
      "source": [
        "img= load_img(image, target_size=(300, 300))\n",
        "x= img_to_array(img)\n",
        "x= np.expand_dims(x, axis=0)"
      ],
      "metadata": {
        "id": "hxuhmk4f_0nv"
      },
      "execution_count": 10,
      "outputs": []
    },
    {
      "cell_type": "code",
      "source": [
        "images= np.vstack([x])\n",
        "classes= model.predict(images, batch_size=10)"
      ],
      "metadata": {
        "colab": {
          "base_uri": "https://localhost:8080/"
        },
        "id": "5Vppn-I7_2XG",
        "outputId": "74734537-e84d-4dd1-ba69-f1da3cfe46c3"
      },
      "execution_count": 11,
      "outputs": [
        {
          "output_type": "stream",
          "name": "stdout",
          "text": [
            "1/1 [==============================] - 0s 170ms/step\n"
          ]
        }
      ]
    },
    {
      "cell_type": "code",
      "source": [
        "single_list = list(itertools.chain.from_iterable(classes))"
      ],
      "metadata": {
        "id": "GrHpk4EQGm-T"
      },
      "execution_count": 12,
      "outputs": []
    },
    {
      "cell_type": "code",
      "source": [
        "class_mapping = {\n",
        "    (1., 0., 0., 0., 0.): 1,\n",
        "    (0., 1., 0., 0., 0.): 2,\n",
        "    (0., 0., 1., 0., 0.): 3,\n",
        "    (0., 0., 0., 1., 0.): 4,\n",
        "    (0., 0., 0., 0., 1.): 5,\n",
        "}\n",
        "output_class = class_mapping.get(tuple(single_list), \"Unknown\")"
      ],
      "metadata": {
        "id": "SJ16LMjdFwA7"
      },
      "execution_count": 13,
      "outputs": []
    },
    {
      "cell_type": "code",
      "source": [
        "dict= {'id': output_class}"
      ],
      "metadata": {
        "id": "iBDPHczMGvHt"
      },
      "execution_count": 14,
      "outputs": []
    },
    {
      "cell_type": "code",
      "source": [
        "filename = \"nanswer.json\"\n",
        "with open(filename, \"w\") as file:\n",
        "    json.dump(dict, file)"
      ],
      "metadata": {
        "id": "03ug_i2yHmLd"
      },
      "execution_count": 16,
      "outputs": []
    },
    {
      "cell_type": "code",
      "source": [],
      "metadata": {
        "id": "qOfMJj4EPFCz"
      },
      "execution_count": null,
      "outputs": []
    }
  ]
}